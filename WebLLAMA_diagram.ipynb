{
  "nbformat": 4,
  "nbformat_minor": 0,
  "metadata": {
    "colab": {
      "provenance": [],
      "authorship_tag": "ABX9TyMeJUNBHQ7kC7Ei2nJjVG/+",
      "include_colab_link": true
    },
    "kernelspec": {
      "name": "python3",
      "display_name": "Python 3"
    },
    "language_info": {
      "name": "python"
    }
  },
  "cells": [
    {
      "cell_type": "markdown",
      "metadata": {
        "id": "view-in-github",
        "colab_type": "text"
      },
      "source": [
        "<a href=\"https://colab.research.google.com/github/gitbarlew/AnyGPT-on-Colab---OLLAMA-with-UI-on-Colab/blob/main/WebLLAMA_diagram.ipynb\" target=\"_parent\"><img src=\"https://colab.research.google.com/assets/colab-badge.svg\" alt=\"Open In Colab\"/></a>"
      ]
    },
    {
      "cell_type": "code",
      "source": [
        "!pip install diagrams"
      ],
      "metadata": {
        "id": "pvKptnvzSRZC"
      },
      "execution_count": null,
      "outputs": []
    },
    {
      "cell_type": "code",
      "execution_count": 2,
      "metadata": {
        "id": "oe1kX04KREjY"
      },
      "outputs": [],
      "source": [
        "# Diagram script for WebLLAMA - Running LLaVA in Colab's notebook\n",
        "import os\n",
        "\n",
        "\n",
        "from diagrams import Diagram, Cluster\n",
        "from diagrams.onprem.compute import Server\n",
        "from diagrams.onprem.client import Client\n",
        "from diagrams.onprem.client import User\n",
        "from diagrams.generic.network import VPN\n",
        "\n",
        "\n",
        "\n",
        "with Diagram(\"WebLLama\", show=True, direction=\"RL\"):\n",
        "\n",
        "\n",
        "    End_User = User(\"User\")\n",
        "\n",
        "\n",
        "\n",
        "    with Cluster(\"Google Colab\"):\n",
        "        Server(\"OLLAMA\\nAPI Port: 11434\") << Client(\"OLLAMA UI\\n Port: 3000\") << VPN(\"Localtunnel\\nURL<->Localhost:3000\") << End_User\n"
      ]
    }
  ]
}